{
 "cells": [
  {
   "cell_type": "markdown",
   "id": "f80eeda8-19e1-4c63-9045-f5548328c037",
   "metadata": {},
   "source": [
    "# Siyuan Jessie Xiong\n",
    "Notebook for assignment7"
   ]
  },
  {
   "cell_type": "code",
   "execution_count": 1,
   "id": "93cc4611-d7bb-4162-8780-af4c63e9ac3d",
   "metadata": {},
   "outputs": [
    {
     "data": {
      "text/plain": [
       "5.0"
      ]
     },
     "execution_count": 1,
     "metadata": {},
     "output_type": "execute_result"
    }
   ],
   "source": [
    "def compute_mean(list1):\n",
    "    res=sum(list1)/len(list1)\n",
    "    return res\n",
    "compute_mean([2,4,6,8])"
   ]
  },
  {
   "cell_type": "markdown",
   "id": "df0f4c8c-7075-4db0-9987-e69ecf1e942a",
   "metadata": {},
   "source": [
    "The above function compute_mean is to calculate the mean of an input list. The mathematical equation is as the following:\n",
    "$$\n",
    "\\hat{x}=\\frac{x_1+x_2+...+x_n}{n}=\\frac{1}{n}\\Bigg(\\sum_{i=1}^{n}x_i\\Bigg)\n",
    "$$"
   ]
  }
 ],
 "metadata": {
  "kernelspec": {
   "display_name": "Python 3 (ipykernel)",
   "language": "python",
   "name": "python3"
  },
  "language_info": {
   "codemirror_mode": {
    "name": "ipython",
    "version": 3
   },
   "file_extension": ".py",
   "mimetype": "text/x-python",
   "name": "python",
   "nbconvert_exporter": "python",
   "pygments_lexer": "ipython3",
   "version": "3.12.2"
  }
 },
 "nbformat": 4,
 "nbformat_minor": 5
}
